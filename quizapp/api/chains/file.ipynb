# To run this code you need to install the following dependencies:
# pip install google-genai

import base64
import os
from google import genai
from google.genai import types


def generate():
    client = genai.Client(
        api_key=os.environ.get("GEMINI_API_KEY"),
    )

    model = "gemini-2.5-pro-preview-05-06"
    contents = [
        types.Content(
            role="user",
            parts=[
                types.Part(
                    file_data=types.FileData(
                        file_uri="https://youtu.be/IrbQziRCNkU",
                        mime_type="video/*",
                    )
                ),
                types.Part.from_text(text="""summarie the video
"""),
            ],
        ),
        types.Content(
            role="model",
            parts=[
                types.Part.from_text(text="""**Summarizing the Core**

I've begun the process of distilling the video's essence. Currently, I'm focusing on identifying the primary message and its supporting arguments. My initial pass focused on the title and opening section. I am preparing a concise distillation of the main points.


**Defining Key Concepts**

My focus has shifted to identifying the core concepts demonstrated in the video. I've pinpointed the emphasis on efficient calculation methods. I am now exploring how the specific examples illustrate these mathematical shortcuts. I'm building a framework for describing the underlying principles.


**Analyzing Solution Methods**

Now, I'm focusing on the different calculation techniques demonstrated. I've noted the video contrasts \"standard\" methods with more efficient approaches. My analysis includes identifying the scenarios where these shortcut methods become advantageous. I'm building a framework for highlighting the \"before-and-after\" benefit.


**Illustrating Efficient Thinking**

Now, I'm focusing on the core message: strategic planning can optimize calculations. I'm noting the clear demonstration using the fraction example; I've observed the contrast between a long, step-by-step approach versus a time-saving \"shortcut\" involving cancelling common factors. My goal is to capture this essential contrast.


**Refining the Core Message**

I've revised my understanding of the video's focus, now emphasizing the core principle of strategic planning in arithmetic. The initial examples solidified the idea, and I'm further refining the summary to more accurately reflect this focus. I'm aiming for clarity in expressing the central theme of efficient mathematical thinking.


**Demonstrating Strategic Thinking**

I've narrowed down the message; it's about the video's presentation of strategic planning to enhance calculation efficiency. The previous examples, demonstrating the value of careful planning, served as solid foundations for this distillation. I'm now crafting a summary that clearly reflects the video's focus on efficient approaches.


**Synthesizing Key Arithmetic Methods**

I've distilled the primary message: efficient calculation hinges on strategic planning, not just memorizing formulas. The initial example of fraction simplification demonstrates the power of forethought over rote calculation. I'm now exploring how each example reinforces this principle of thoughtful arithmetic.


"""),
                types.Part.from_text(text="""This video from Brilliant.org, titled \"Arithmetic Tricks,\" demonstrates how strategic thinking can simplify arithmetic problems and save significant time and effort.

1.  **Example 1: Basic Addition (`23 + 47 = ?`)**
    *   The trick shown is to decompose the numbers:
        *   `20 + 40 = 60`
        *   `3 + 7 = 10`
        *   `60 + 10 = 70`

2.  **Example 2: Multiplying Fractions (`(1/3)(3/5)(5/7) * 70 = ?`)**
    *   **Long way:** Calculating step-by-step from left to right involves multiple multiplications and simplifications (`(1/3)(3/5) = 1/5`, then `(1/5)(5/7) = 1/7`, then `(1/7)*70 = 10`), which is described as \"a lot of work.\"
    *   **Faster way (Strategize):** Combine all the fractions first: `(1 * 3 * 5) / (3 * 5 * 7) * 70`. Then, cancel out common factors (the 3s and 5s) to get `(1/7) * 70 = 10`.
    *   **Message:** \"Often, a little planning can save a lot of work.\"

3.  **Example 3: Adding Larger Numbers (`825 + 287 = ?`)**
    *   The shortcut involves decomposing by place value:
        *   `800 + 200 = 1000`
        *   `20 + 80 = 100`
        *   `5 + 7` is broken down further: `5 + 5 = 10`, plus the remaining `2`, so `12`.
        *   Summing these partial results: `1000 + 100 + 10 + 2 = 1112`.

4.  **Challenge Example: Product of Sums (`(1 + 1/2)(1 + 1/3)(1 + 1/4) ... (1 + 1/9) = ?`)**
    *   A hint is given: simplify each term within the parentheses first.
        *   `(1 + 1/2) = 3/2`
        *   `(1 + 1/3) = 4/3`
        *   `(1 + 1/4) = 5/4`
        *   ...
        *   `(1 + 1/9) = 10/9`
    *   This transforms the problem into `(3/2)(4/3)(5/4)...(10/9)`, which is a telescoping product where many terms cancel out. (The implied solution is `10/2 = 5`).

The video concludes by encouraging viewers to find more time-saving tricks at brilliant.org."""),
            ],
        ),
        types.Content(
            role="user",
            parts=[
                types.Part.from_text(text="""INSERT_INPUT_HERE"""),
            ],
        ),
    ]
    generate_content_config = types.GenerateContentConfig(
        response_mime_type="text/plain",
    )

    for chunk in client.models.generate_content_stream(
        model=model,
        contents=contents,
        config=generate_content_config,
    ):
        print(chunk.text, end="")

if __name__ == "__main__":
    generate()
